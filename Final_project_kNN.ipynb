{
 "cells": [
  {
   "cell_type": "markdown",
   "id": "44fce6c5",
   "metadata": {},
   "source": [
    "# Predictin of Readmittance rate in  Diabetes patients using kNN classifier"
   ]
  },
  {
   "cell_type": "markdown",
   "id": "26588135",
   "metadata": {},
   "source": [
    "Importing all required python libraries"
   ]
  },
  {
   "cell_type": "code",
   "execution_count": 1,
   "id": "293d6ed1",
   "metadata": {},
   "outputs": [],
   "source": [
    "import pandas as pd                                                #pandas library\n",
    "%matplotlib inline   \n",
    "import matplotlib.pyplot as plt                                    #matplotlib library\n",
    "import numpy as np \n",
    "from sklearn.preprocessing import StandardScaler                   #standarscalar for zscore\n",
    "from sklearn.model_selection import train_test_split               #model selection library\n",
    "from sklearn.neighbors import KNeighborsClassifier                 #kNN neighbour classifier library \n",
    "from sklearn.metrics import classification_report,confusion_matrix #confusion matrix\n",
    "from sklearn.model_selection import cross_val_score                #crossvalidation score \n",
    "from sklearn.metrics import accuracy_score                         #accuracy score"
   ]
  },
  {
   "cell_type": "code",
   "execution_count": null,
   "id": "972d6835",
   "metadata": {},
   "outputs": [],
   "source": []
  },
  {
   "cell_type": "markdown",
   "id": "9ab3ecc7",
   "metadata": {},
   "source": [
    "Now lets look at original data set which was collected from myriad hospitals across USA"
   ]
  },
  {
   "cell_type": "code",
   "execution_count": 2,
   "id": "38ed3821",
   "metadata": {},
   "outputs": [
    {
     "data": {
      "text/html": [
       "<div>\n",
       "<style scoped>\n",
       "    .dataframe tbody tr th:only-of-type {\n",
       "        vertical-align: middle;\n",
       "    }\n",
       "\n",
       "    .dataframe tbody tr th {\n",
       "        vertical-align: top;\n",
       "    }\n",
       "\n",
       "    .dataframe thead th {\n",
       "        text-align: right;\n",
       "    }\n",
       "</style>\n",
       "<table border=\"1\" class=\"dataframe\">\n",
       "  <thead>\n",
       "    <tr style=\"text-align: right;\">\n",
       "      <th></th>\n",
       "      <th>encounter_id</th>\n",
       "      <th>patient_nbr</th>\n",
       "      <th>race</th>\n",
       "      <th>gender</th>\n",
       "      <th>age</th>\n",
       "      <th>weight</th>\n",
       "      <th>admission_type_id</th>\n",
       "      <th>discharge_disposition_id</th>\n",
       "      <th>admission_source_id</th>\n",
       "      <th>time_in_hospital</th>\n",
       "      <th>...</th>\n",
       "      <th>citoglipton</th>\n",
       "      <th>insulin</th>\n",
       "      <th>glyburide-metformin</th>\n",
       "      <th>glipizide-metformin</th>\n",
       "      <th>glimepiride-pioglitazone</th>\n",
       "      <th>metformin-rosiglitazone</th>\n",
       "      <th>metformin-pioglitazone</th>\n",
       "      <th>change</th>\n",
       "      <th>diabetesMed</th>\n",
       "      <th>readmitted</th>\n",
       "    </tr>\n",
       "  </thead>\n",
       "  <tbody>\n",
       "    <tr>\n",
       "      <th>0</th>\n",
       "      <td>2278392</td>\n",
       "      <td>8222157</td>\n",
       "      <td>Caucasian</td>\n",
       "      <td>Female</td>\n",
       "      <td>[0-10)</td>\n",
       "      <td>?</td>\n",
       "      <td>6</td>\n",
       "      <td>25</td>\n",
       "      <td>1</td>\n",
       "      <td>1</td>\n",
       "      <td>...</td>\n",
       "      <td>No</td>\n",
       "      <td>No</td>\n",
       "      <td>No</td>\n",
       "      <td>No</td>\n",
       "      <td>No</td>\n",
       "      <td>No</td>\n",
       "      <td>No</td>\n",
       "      <td>No</td>\n",
       "      <td>No</td>\n",
       "      <td>NO</td>\n",
       "    </tr>\n",
       "    <tr>\n",
       "      <th>1</th>\n",
       "      <td>149190</td>\n",
       "      <td>55629189</td>\n",
       "      <td>Caucasian</td>\n",
       "      <td>Female</td>\n",
       "      <td>[10-20)</td>\n",
       "      <td>?</td>\n",
       "      <td>1</td>\n",
       "      <td>1</td>\n",
       "      <td>7</td>\n",
       "      <td>3</td>\n",
       "      <td>...</td>\n",
       "      <td>No</td>\n",
       "      <td>Up</td>\n",
       "      <td>No</td>\n",
       "      <td>No</td>\n",
       "      <td>No</td>\n",
       "      <td>No</td>\n",
       "      <td>No</td>\n",
       "      <td>Ch</td>\n",
       "      <td>Yes</td>\n",
       "      <td>&gt;30</td>\n",
       "    </tr>\n",
       "    <tr>\n",
       "      <th>2</th>\n",
       "      <td>64410</td>\n",
       "      <td>86047875</td>\n",
       "      <td>AfricanAmerican</td>\n",
       "      <td>Female</td>\n",
       "      <td>[20-30)</td>\n",
       "      <td>?</td>\n",
       "      <td>1</td>\n",
       "      <td>1</td>\n",
       "      <td>7</td>\n",
       "      <td>2</td>\n",
       "      <td>...</td>\n",
       "      <td>No</td>\n",
       "      <td>No</td>\n",
       "      <td>No</td>\n",
       "      <td>No</td>\n",
       "      <td>No</td>\n",
       "      <td>No</td>\n",
       "      <td>No</td>\n",
       "      <td>No</td>\n",
       "      <td>Yes</td>\n",
       "      <td>NO</td>\n",
       "    </tr>\n",
       "    <tr>\n",
       "      <th>3</th>\n",
       "      <td>500364</td>\n",
       "      <td>82442376</td>\n",
       "      <td>Caucasian</td>\n",
       "      <td>Male</td>\n",
       "      <td>[30-40)</td>\n",
       "      <td>?</td>\n",
       "      <td>1</td>\n",
       "      <td>1</td>\n",
       "      <td>7</td>\n",
       "      <td>2</td>\n",
       "      <td>...</td>\n",
       "      <td>No</td>\n",
       "      <td>Up</td>\n",
       "      <td>No</td>\n",
       "      <td>No</td>\n",
       "      <td>No</td>\n",
       "      <td>No</td>\n",
       "      <td>No</td>\n",
       "      <td>Ch</td>\n",
       "      <td>Yes</td>\n",
       "      <td>NO</td>\n",
       "    </tr>\n",
       "    <tr>\n",
       "      <th>4</th>\n",
       "      <td>16680</td>\n",
       "      <td>42519267</td>\n",
       "      <td>Caucasian</td>\n",
       "      <td>Male</td>\n",
       "      <td>[40-50)</td>\n",
       "      <td>?</td>\n",
       "      <td>1</td>\n",
       "      <td>1</td>\n",
       "      <td>7</td>\n",
       "      <td>1</td>\n",
       "      <td>...</td>\n",
       "      <td>No</td>\n",
       "      <td>Steady</td>\n",
       "      <td>No</td>\n",
       "      <td>No</td>\n",
       "      <td>No</td>\n",
       "      <td>No</td>\n",
       "      <td>No</td>\n",
       "      <td>Ch</td>\n",
       "      <td>Yes</td>\n",
       "      <td>NO</td>\n",
       "    </tr>\n",
       "  </tbody>\n",
       "</table>\n",
       "<p>5 rows × 50 columns</p>\n",
       "</div>"
      ],
      "text/plain": [
       "   encounter_id  patient_nbr             race  gender      age weight  \\\n",
       "0       2278392      8222157        Caucasian  Female   [0-10)      ?   \n",
       "1        149190     55629189        Caucasian  Female  [10-20)      ?   \n",
       "2         64410     86047875  AfricanAmerican  Female  [20-30)      ?   \n",
       "3        500364     82442376        Caucasian    Male  [30-40)      ?   \n",
       "4         16680     42519267        Caucasian    Male  [40-50)      ?   \n",
       "\n",
       "   admission_type_id  discharge_disposition_id  admission_source_id  \\\n",
       "0                  6                        25                    1   \n",
       "1                  1                         1                    7   \n",
       "2                  1                         1                    7   \n",
       "3                  1                         1                    7   \n",
       "4                  1                         1                    7   \n",
       "\n",
       "   time_in_hospital  ... citoglipton insulin  glyburide-metformin  \\\n",
       "0                 1  ...          No      No                   No   \n",
       "1                 3  ...          No      Up                   No   \n",
       "2                 2  ...          No      No                   No   \n",
       "3                 2  ...          No      Up                   No   \n",
       "4                 1  ...          No  Steady                   No   \n",
       "\n",
       "   glipizide-metformin  glimepiride-pioglitazone  metformin-rosiglitazone  \\\n",
       "0                   No                        No                       No   \n",
       "1                   No                        No                       No   \n",
       "2                   No                        No                       No   \n",
       "3                   No                        No                       No   \n",
       "4                   No                        No                       No   \n",
       "\n",
       "   metformin-pioglitazone  change diabetesMed readmitted  \n",
       "0                      No      No          No         NO  \n",
       "1                      No      Ch         Yes        >30  \n",
       "2                      No      No         Yes         NO  \n",
       "3                      No      Ch         Yes         NO  \n",
       "4                      No      Ch         Yes         NO  \n",
       "\n",
       "[5 rows x 50 columns]"
      ]
     },
     "execution_count": 2,
     "metadata": {},
     "output_type": "execute_result"
    }
   ],
   "source": [
    "df = pd.read_csv('diabetic_data.csv') #reading the original dataset \n",
    "\n",
    "df.head() #printing only first 5 rows of data set"
   ]
  },
  {
   "cell_type": "code",
   "execution_count": 3,
   "id": "af1ad8a6",
   "metadata": {},
   "outputs": [
    {
     "name": "stdout",
     "output_type": "stream",
     "text": [
      "<class 'pandas.core.frame.DataFrame'>\n",
      "RangeIndex: 101766 entries, 0 to 101765\n",
      "Data columns (total 50 columns):\n",
      " #   Column                    Non-Null Count   Dtype \n",
      "---  ------                    --------------   ----- \n",
      " 0   encounter_id              101766 non-null  int64 \n",
      " 1   patient_nbr               101766 non-null  int64 \n",
      " 2   race                      101766 non-null  object\n",
      " 3   gender                    101766 non-null  object\n",
      " 4   age                       101766 non-null  object\n",
      " 5   weight                    101766 non-null  object\n",
      " 6   admission_type_id         101766 non-null  int64 \n",
      " 7   discharge_disposition_id  101766 non-null  int64 \n",
      " 8   admission_source_id       101766 non-null  int64 \n",
      " 9   time_in_hospital          101766 non-null  int64 \n",
      " 10  payer_code                101766 non-null  object\n",
      " 11  medical_specialty         101766 non-null  object\n",
      " 12  num_lab_procedures        101766 non-null  int64 \n",
      " 13  num_procedures            101766 non-null  int64 \n",
      " 14  num_medications           101766 non-null  int64 \n",
      " 15  number_outpatient         101766 non-null  int64 \n",
      " 16  number_emergency          101766 non-null  int64 \n",
      " 17  number_inpatient          101766 non-null  int64 \n",
      " 18  diag_1                    101766 non-null  object\n",
      " 19  diag_2                    101766 non-null  object\n",
      " 20  diag_3                    101766 non-null  object\n",
      " 21  number_diagnoses          101766 non-null  int64 \n",
      " 22  max_glu_serum             101766 non-null  object\n",
      " 23  A1Cresult                 101766 non-null  object\n",
      " 24  metformin                 101766 non-null  object\n",
      " 25  repaglinide               101766 non-null  object\n",
      " 26  nateglinide               101766 non-null  object\n",
      " 27  chlorpropamide            101766 non-null  object\n",
      " 28  glimepiride               101766 non-null  object\n",
      " 29  acetohexamide             101766 non-null  object\n",
      " 30  glipizide                 101766 non-null  object\n",
      " 31  glyburide                 101766 non-null  object\n",
      " 32  tolbutamide               101766 non-null  object\n",
      " 33  pioglitazone              101766 non-null  object\n",
      " 34  rosiglitazone             101766 non-null  object\n",
      " 35  acarbose                  101766 non-null  object\n",
      " 36  miglitol                  101766 non-null  object\n",
      " 37  troglitazone              101766 non-null  object\n",
      " 38  tolazamide                101766 non-null  object\n",
      " 39  examide                   101766 non-null  object\n",
      " 40  citoglipton               101766 non-null  object\n",
      " 41  insulin                   101766 non-null  object\n",
      " 42  glyburide-metformin       101766 non-null  object\n",
      " 43  glipizide-metformin       101766 non-null  object\n",
      " 44  glimepiride-pioglitazone  101766 non-null  object\n",
      " 45  metformin-rosiglitazone   101766 non-null  object\n",
      " 46  metformin-pioglitazone    101766 non-null  object\n",
      " 47  change                    101766 non-null  object\n",
      " 48  diabetesMed               101766 non-null  object\n",
      " 49  readmitted                101766 non-null  object\n",
      "dtypes: int64(13), object(37)\n",
      "memory usage: 38.8+ MB\n"
     ]
    }
   ],
   "source": [
    "df.info() #printing all the features of data set "
   ]
  },
  {
   "cell_type": "code",
   "execution_count": null,
   "id": "f94f30a6",
   "metadata": {},
   "outputs": [],
   "source": []
  },
  {
   "cell_type": "markdown",
   "id": "e1936cbf",
   "metadata": {},
   "source": [
    "# Processed Dataset"
   ]
  },
  {
   "cell_type": "markdown",
   "id": "51e77fed",
   "metadata": {},
   "source": [
    "Now as we have looked at the original dataset and al the features, most of this data set was cleaned in GoogleRefine and below printed data set is the one which was accuried after data cleaning."
   ]
  },
  {
   "cell_type": "code",
   "execution_count": 4,
   "id": "20a84d19",
   "metadata": {},
   "outputs": [
    {
     "data": {
      "text/html": [
       "<div>\n",
       "<style scoped>\n",
       "    .dataframe tbody tr th:only-of-type {\n",
       "        vertical-align: middle;\n",
       "    }\n",
       "\n",
       "    .dataframe tbody tr th {\n",
       "        vertical-align: top;\n",
       "    }\n",
       "\n",
       "    .dataframe thead th {\n",
       "        text-align: right;\n",
       "    }\n",
       "</style>\n",
       "<table border=\"1\" class=\"dataframe\">\n",
       "  <thead>\n",
       "    <tr style=\"text-align: right;\">\n",
       "      <th></th>\n",
       "      <th>encounter_id</th>\n",
       "      <th>patient_nbr</th>\n",
       "      <th>race</th>\n",
       "      <th>gender</th>\n",
       "      <th>age</th>\n",
       "      <th>admission_type_id</th>\n",
       "      <th>discharge_disposition_id</th>\n",
       "      <th>admission_source_id</th>\n",
       "      <th>time_in_hospital</th>\n",
       "      <th>medical_specialty</th>\n",
       "      <th>...</th>\n",
       "      <th>glimepiride</th>\n",
       "      <th>glipizide</th>\n",
       "      <th>glyburide</th>\n",
       "      <th>pioglitazone</th>\n",
       "      <th>rosiglitazone</th>\n",
       "      <th>acarbose</th>\n",
       "      <th>insulin</th>\n",
       "      <th>change</th>\n",
       "      <th>diabetesMed</th>\n",
       "      <th>readmitted</th>\n",
       "    </tr>\n",
       "  </thead>\n",
       "  <tbody>\n",
       "    <tr>\n",
       "      <th>0</th>\n",
       "      <td>2278392</td>\n",
       "      <td>8222157</td>\n",
       "      <td>0</td>\n",
       "      <td>0</td>\n",
       "      <td>0</td>\n",
       "      <td>6</td>\n",
       "      <td>25</td>\n",
       "      <td>1</td>\n",
       "      <td>1</td>\n",
       "      <td>37</td>\n",
       "      <td>...</td>\n",
       "      <td>1</td>\n",
       "      <td>1</td>\n",
       "      <td>1</td>\n",
       "      <td>1</td>\n",
       "      <td>1</td>\n",
       "      <td>0</td>\n",
       "      <td>1</td>\n",
       "      <td>1</td>\n",
       "      <td>0</td>\n",
       "      <td>3</td>\n",
       "    </tr>\n",
       "    <tr>\n",
       "      <th>1</th>\n",
       "      <td>149190</td>\n",
       "      <td>55629189</td>\n",
       "      <td>0</td>\n",
       "      <td>0</td>\n",
       "      <td>1</td>\n",
       "      <td>1</td>\n",
       "      <td>1</td>\n",
       "      <td>7</td>\n",
       "      <td>3</td>\n",
       "      <td>19</td>\n",
       "      <td>...</td>\n",
       "      <td>1</td>\n",
       "      <td>1</td>\n",
       "      <td>1</td>\n",
       "      <td>1</td>\n",
       "      <td>1</td>\n",
       "      <td>0</td>\n",
       "      <td>3</td>\n",
       "      <td>0</td>\n",
       "      <td>1</td>\n",
       "      <td>1</td>\n",
       "    </tr>\n",
       "    <tr>\n",
       "      <th>2</th>\n",
       "      <td>500364</td>\n",
       "      <td>82442376</td>\n",
       "      <td>0</td>\n",
       "      <td>1</td>\n",
       "      <td>3</td>\n",
       "      <td>1</td>\n",
       "      <td>1</td>\n",
       "      <td>7</td>\n",
       "      <td>2</td>\n",
       "      <td>19</td>\n",
       "      <td>...</td>\n",
       "      <td>1</td>\n",
       "      <td>1</td>\n",
       "      <td>1</td>\n",
       "      <td>1</td>\n",
       "      <td>1</td>\n",
       "      <td>0</td>\n",
       "      <td>3</td>\n",
       "      <td>0</td>\n",
       "      <td>1</td>\n",
       "      <td>3</td>\n",
       "    </tr>\n",
       "    <tr>\n",
       "      <th>3</th>\n",
       "      <td>16680</td>\n",
       "      <td>42519267</td>\n",
       "      <td>0</td>\n",
       "      <td>1</td>\n",
       "      <td>4</td>\n",
       "      <td>1</td>\n",
       "      <td>1</td>\n",
       "      <td>7</td>\n",
       "      <td>1</td>\n",
       "      <td>19</td>\n",
       "      <td>...</td>\n",
       "      <td>1</td>\n",
       "      <td>2</td>\n",
       "      <td>1</td>\n",
       "      <td>1</td>\n",
       "      <td>1</td>\n",
       "      <td>0</td>\n",
       "      <td>2</td>\n",
       "      <td>0</td>\n",
       "      <td>1</td>\n",
       "      <td>3</td>\n",
       "    </tr>\n",
       "    <tr>\n",
       "      <th>4</th>\n",
       "      <td>35754</td>\n",
       "      <td>82637451</td>\n",
       "      <td>0</td>\n",
       "      <td>1</td>\n",
       "      <td>5</td>\n",
       "      <td>2</td>\n",
       "      <td>1</td>\n",
       "      <td>2</td>\n",
       "      <td>3</td>\n",
       "      <td>19</td>\n",
       "      <td>...</td>\n",
       "      <td>1</td>\n",
       "      <td>1</td>\n",
       "      <td>1</td>\n",
       "      <td>1</td>\n",
       "      <td>1</td>\n",
       "      <td>0</td>\n",
       "      <td>2</td>\n",
       "      <td>1</td>\n",
       "      <td>1</td>\n",
       "      <td>1</td>\n",
       "    </tr>\n",
       "  </tbody>\n",
       "</table>\n",
       "<p>5 rows × 34 columns</p>\n",
       "</div>"
      ],
      "text/plain": [
       "   encounter_id  patient_nbr  race  gender  age  admission_type_id  \\\n",
       "0       2278392      8222157     0       0    0                  6   \n",
       "1        149190     55629189     0       0    1                  1   \n",
       "2        500364     82442376     0       1    3                  1   \n",
       "3         16680     42519267     0       1    4                  1   \n",
       "4         35754     82637451     0       1    5                  2   \n",
       "\n",
       "   discharge_disposition_id  admission_source_id  time_in_hospital  \\\n",
       "0                        25                    1                 1   \n",
       "1                         1                    7                 3   \n",
       "2                         1                    7                 2   \n",
       "3                         1                    7                 1   \n",
       "4                         1                    2                 3   \n",
       "\n",
       "   medical_specialty  ...  glimepiride  glipizide  glyburide  pioglitazone  \\\n",
       "0                 37  ...            1          1          1             1   \n",
       "1                 19  ...            1          1          1             1   \n",
       "2                 19  ...            1          1          1             1   \n",
       "3                 19  ...            1          2          1             1   \n",
       "4                 19  ...            1          1          1             1   \n",
       "\n",
       "   rosiglitazone  acarbose  insulin  change  diabetesMed  readmitted  \n",
       "0              1         0        1       1            0           3  \n",
       "1              1         0        3       0            1           1  \n",
       "2              1         0        3       0            1           3  \n",
       "3              1         0        2       0            1           3  \n",
       "4              1         0        2       1            1           1  \n",
       "\n",
       "[5 rows x 34 columns]"
      ]
     },
     "execution_count": 4,
     "metadata": {},
     "output_type": "execute_result"
    }
   ],
   "source": [
    "df1 = pd.read_csv('jaga_project.csv') #reading cleaned dataset\n",
    "df1.head() #printing cleaned dataset"
   ]
  },
  {
   "cell_type": "code",
   "execution_count": 5,
   "id": "49633e80",
   "metadata": {},
   "outputs": [
    {
     "data": {
      "text/plain": [
       "(65759, 34)"
      ]
     },
     "execution_count": 5,
     "metadata": {},
     "output_type": "execute_result"
    }
   ],
   "source": [
    "df1.shape #looking at the shape of the dataset after cleaning the data"
   ]
  },
  {
   "cell_type": "code",
   "execution_count": null,
   "id": "f37ccc7f",
   "metadata": {},
   "outputs": [],
   "source": []
  },
  {
   "cell_type": "markdown",
   "id": "e0a8b5cd",
   "metadata": {},
   "source": [
    "# Class feature Values"
   ]
  },
  {
   "cell_type": "markdown",
   "id": "d54c0a8b",
   "metadata": {},
   "source": [
    "This data set is a multiclass value dataset as it has 3 different values in class and they have been assigned respective values\n",
    " <30 = 0 ;  >30 = 1 ;  NO  = 3 "
   ]
  },
  {
   "cell_type": "code",
   "execution_count": 6,
   "id": "5822c29e",
   "metadata": {},
   "outputs": [
    {
     "data": {
      "text/plain": [
       "3    39573\n",
       "1    20417\n",
       "0     5769\n",
       "Name: readmitted, dtype: int64"
      ]
     },
     "execution_count": 6,
     "metadata": {},
     "output_type": "execute_result"
    }
   ],
   "source": [
    "df1['readmitted'].value_counts() #printing different values of class feature"
   ]
  },
  {
   "cell_type": "code",
   "execution_count": null,
   "id": "4695fb9e",
   "metadata": {},
   "outputs": [],
   "source": []
  },
  {
   "cell_type": "markdown",
   "id": "f6db320b",
   "metadata": {},
   "source": [
    "# Detecting Outliers for Numerical features"
   ]
  },
  {
   "cell_type": "markdown",
   "id": "2d9160e2",
   "metadata": {},
   "source": [
    "This data set has few numerical features like time_in_hospital, num_lab_procedures, num_procedures, num_medications, number_outpatient, number_emergency, number_inpatient. FUnction is written to visuzlize these numerical values in feature through box plot, by looking at box plot we can see there are few outliers in the dataset. "
   ]
  },
  {
   "cell_type": "code",
   "execution_count": 7,
   "id": "ec32c0e9",
   "metadata": {},
   "outputs": [],
   "source": [
    "import matplotlib.pyplot as plt #importing matplotlib for boxplot"
   ]
  },
  {
   "cell_type": "code",
   "execution_count": 8,
   "id": "e62fe8ee",
   "metadata": {},
   "outputs": [],
   "source": [
    "#looking for outliers \n",
    "\n",
    "def plot_boxplot(df,ft):      #defining a function\n",
    "    df.boxplot(column=[ft])   #printing boxplot verticaly\n",
    "    plt.grid(False)           #switching off the grid in boxplot\n",
    "    plt.show()                #printing the box plot"
   ]
  },
  {
   "cell_type": "code",
   "execution_count": 9,
   "id": "f6c3777b",
   "metadata": {},
   "outputs": [
    {
     "data": {
      "image/png": "[encoded data removed]",
      "text/plain": [
       "<Figure size 432x288 with 1 Axes>"
      ]
     },
     "metadata": {
      "needs_background": "light"
     },
     "output_type": "display_data"
    }
   ],
   "source": [
    "plot_boxplot(df1, \"time_in_hospital\") #boxplot for time in hospital"
   ]
  },
  {
   "cell_type": "code",
   "execution_count": null,
   "id": "e6cdaea9",
   "metadata": {},
   "outputs": [],
   "source": []
  },
  {
   "cell_type": "code",
   "execution_count": 10,
   "id": "15113136",
   "metadata": {},
   "outputs": [
    {
     "data": {
      "image/png": "[encoded data removed]",
      "text/plain": [
       "<Figure size 432x288 with 1 Axes>"
      ]
     },
     "metadata": {
      "needs_background": "light"
     },
     "output_type": "display_data"
    }
   ],
   "source": [
    "plot_boxplot(df1, \"num_lab_procedures\") #boxplot for num of lab procedures"
   ]
  },
  {
   "cell_type": "code",
   "execution_count": null,
   "id": "cb748b6d",
   "metadata": {},
   "outputs": [],
   "source": []
  },
  {
   "cell_type": "code",
   "execution_count": 11,
   "id": "cd627bcd",
   "metadata": {},
   "outputs": [
    {
     "data": {
      "image/png": "[encoded data removed]",
      "text/plain": [
       "<Figure size 432x288 with 1 Axes>"
      ]
     },
     "metadata": {
      "needs_background": "light"
     },
     "output_type": "display_data"
    }
   ],
   "source": [
    "plot_boxplot(df1, \"num_procedures\")  #blox plot for num of procedures"
   ]
  },
  {
   "cell_type": "code",
   "execution_count": null,
   "id": "59723a58",
   "metadata": {},
   "outputs": [],
   "source": []
  },
  {
   "cell_type": "code",
   "execution_count": 12,
   "id": "c74ffe25",
   "metadata": {},
   "outputs": [
    {
     "data": {
      "image/png": "[encoded data removed]",
      "text/plain": [
       "<Figure size 432x288 with 1 Axes>"
      ]
     },
     "metadata": {
      "needs_background": "light"
     },
     "output_type": "display_data"
    }
   ],
   "source": [
    "plot_boxplot(df1, \"num_medications\")  #boxplot for num of medications"
   ]
  },
  {
   "cell_type": "code",
   "execution_count": null,
   "id": "ab4b30f1",
   "metadata": {},
   "outputs": [],
   "source": []
  },
  {
   "cell_type": "code",
   "execution_count": 13,
   "id": "0405ff64",
   "metadata": {},
   "outputs": [
    {
     "data": {
      "image/png": "[encoded data removed]",
      "text/plain": [
       "<Figure size 432x288 with 1 Axes>"
      ]
     },
     "metadata": {
      "needs_background": "light"
     },
     "output_type": "display_data"
    }
   ],
   "source": [
    "plot_boxplot(df1, \"number_outpatient\") #boxplot for number outpaitents"
   ]
  },
  {
   "cell_type": "code",
   "execution_count": null,
   "id": "a976c055",
   "metadata": {},
   "outputs": [],
   "source": []
  },
  {
   "cell_type": "code",
   "execution_count": 14,
   "id": "59225651",
   "metadata": {},
   "outputs": [
    {
     "data": {
      "image/png": "[encoded data removed]",
      "text/plain": [
       "<Figure size 432x288 with 1 Axes>"
      ]
     },
     "metadata": {
      "needs_background": "light"
     },
     "output_type": "display_data"
    }
   ],
   "source": [
    "plot_boxplot(df1, \"number_emergency\")  #boxplot for num emergency"
   ]
  },
  {
   "cell_type": "code",
   "execution_count": null,
   "id": "c51ae606",
   "metadata": {},
   "outputs": [],
   "source": []
  },
  {
   "cell_type": "code",
   "execution_count": 15,
   "id": "eadc0a0d",
   "metadata": {},
   "outputs": [
    {
     "data": {
      "image/png": "[encoded data removed]",
      "text/plain": [
       "<Figure size 432x288 with 1 Axes>"
      ]
     },
     "metadata": {
      "needs_background": "light"
     },
     "output_type": "display_data"
    }
   ],
   "source": [
    "plot_boxplot(df1, \"number_inpatient\")  #boxplot for number inpaitent"
   ]
  },
  {
   "cell_type": "code",
   "execution_count": null,
   "id": "f6f1baa9",
   "metadata": {},
   "outputs": [],
   "source": []
  },
  {
   "cell_type": "markdown",
   "id": "3ae63b49",
   "metadata": {},
   "source": [
    "Since there are outliers present in time_in_hospital, num_lab_procedures, num_procedures, num_medications, the outliers will be replaced by median of the respective feature values."
   ]
  },
  {
   "cell_type": "code",
   "execution_count": 16,
   "id": "52a33cf2",
   "metadata": {},
   "outputs": [],
   "source": [
    "import numpy as np #importing numpy for numerical calculation"
   ]
  },
  {
   "cell_type": "code",
   "execution_count": 17,
   "id": "50c9dc82",
   "metadata": {},
   "outputs": [
    {
     "data": {
      "image/png": "[encoded data removed]",
      "text/plain": [
       "<Figure size 432x288 with 1 Axes>"
      ]
     },
     "metadata": {
      "needs_background": "light"
     },
     "output_type": "display_data"
    }
   ],
   "source": [
    "for i in df1[\"time_in_hospital\"]:                       #creating a for loop\n",
    "        q1 = df1[\"time_in_hospital\"].quantile(0.25)     #calculating 1st quartile\n",
    "        q3 = df1[\"time_in_hospital\"].quantile(0.75)     #calculating 3rd quartile\n",
    "        iqr = q3-q1                                     #calculating inter quartile range\n",
    "        lower = q1 - 1.5 * iqr                          #setting up lower vlaue\n",
    "        upper = q3 + 1.5 * iqr                          #setting up upper value\n",
    "        if i>upper or i<lower:                          \n",
    "            df1[\"time_in_hospital\"] = df1[\"time_in_hospital\"].replace(i,np.median(df1[\"time_in_hospital\"]))\n",
    "df1.boxplot(column=[\"time_in_hospital\"]) #if vlaues lie below the lower value and bove the upper value it will be replaced by median               \n",
    "plt.title(\"Boxplot after imputation of outliers\")       #printing boxplot after imputation of outliers\n",
    "plt.show()\n",
    "      \n",
    "        \n",
    "       \n",
    "    "
   ]
  },
  {
   "cell_type": "code",
   "execution_count": null,
   "id": "4a84cf81",
   "metadata": {},
   "outputs": [],
   "source": []
  },
  {
   "cell_type": "markdown",
   "id": "cdb9669e",
   "metadata": {},
   "source": [
    "Above method has been applied for other three features as well "
   ]
  },
  {
   "cell_type": "code",
   "execution_count": 18,
   "id": "993431f2",
   "metadata": {},
   "outputs": [
    {
     "data": {
      "image/png": "[encoded data removed]",
      "text/plain": [
       "<Figure size 432x288 with 1 Axes>"
      ]
     },
     "metadata": {
      "needs_background": "light"
     },
     "output_type": "display_data"
    }
   ],
   "source": [
    "for i in df1[\"num_lab_procedures\"]:\n",
    "        q1 = df1[\"num_lab_procedures\"].quantile(0.25)\n",
    "        q3 = df1[\"num_lab_procedures\"].quantile(0.75)\n",
    "        iqr = q3-q1\n",
    "        lower = q1 - 1.5 * iqr\n",
    "        upper = q3 + 1.5 * iqr\n",
    "        if i>upper or i<lower:\n",
    "            df1[\"num_lab_procedures\"] = df1[\"num_lab_procedures\"].replace(i,np.median(df1[\"num_lab_procedures\"]))\n",
    "df1.boxplot(column=[\"num_lab_procedures\"])\n",
    "plt.title(\"Boxplot after imputation of outliers\")\n",
    "plt.show()"
   ]
  },
  {
   "cell_type": "code",
   "execution_count": null,
   "id": "c88177bd",
   "metadata": {},
   "outputs": [],
   "source": []
  },
  {
   "cell_type": "code",
   "execution_count": null,
   "id": "cb50bc29",
   "metadata": {},
   "outputs": [],
   "source": []
  },
  {
   "cell_type": "code",
   "execution_count": 19,
   "id": "dfebd459",
   "metadata": {},
   "outputs": [
    {
     "data": {
      "image/png": "[encoded data removed]",
      "text/plain": [
       "<Figure size 432x288 with 1 Axes>"
      ]
     },
     "metadata": {
      "needs_background": "light"
     },
     "output_type": "display_data"
    }
   ],
   "source": [
    "for i in df1[\"num_medications\"]:\n",
    "        q1 = df1[\"num_medications\"].quantile(0.25)\n",
    "        q3 = df1[\"num_medications\"].quantile(0.75)\n",
    "        iqr = q3-q1\n",
    "        lower = q1 - 1.5 * iqr\n",
    "        upper = q3 + 1.5 * iqr\n",
    "        if i>upper or i<lower:\n",
    "            df1[\"num_medications\"] = df1[\"num_medications\"].replace(i,np.median(df1[\"num_medications\"]))\n",
    "df1.boxplot(column=[\"num_medications\"])\n",
    "plt.title(\"Boxplot after imputation of outliers\")\n",
    "plt.show()"
   ]
  },
  {
   "cell_type": "code",
   "execution_count": null,
   "id": "09975ab1",
   "metadata": {},
   "outputs": [],
   "source": []
  },
  {
   "cell_type": "code",
   "execution_count": null,
   "id": "aa4d890c",
   "metadata": {},
   "outputs": [],
   "source": []
  },
  {
   "cell_type": "code",
   "execution_count": 20,
   "id": "07fe4e0e",
   "metadata": {},
   "outputs": [
    {
     "data": {
      "image/png": "[encoded data removed]",
      "text/plain": [
       "<Figure size 432x288 with 1 Axes>"
      ]
     },
     "metadata": {
      "needs_background": "light"
     },
     "output_type": "display_data"
    }
   ],
   "source": [
    "for i in df1[\"num_procedures\"]:\n",
    "        q1 = df1[\"num_procedures\"].quantile(0.25)\n",
    "        q3 = df1[\"num_procedures\"].quantile(0.75)\n",
    "        iqr = q3-q1\n",
    "        lower = q1 - 1.5 * iqr\n",
    "        upper = q3 + 1.5 * iqr\n",
    "        if i>upper or i<lower:\n",
    "            df1[\"num_procedures\"] = df1[\"num_procedures\"].replace(i,np.median(df1[\"num_procedures\"]))\n",
    "df1.boxplot(column=[\"num_procedures\"])\n",
    "plt.title(\"Boxplot after imputation of outliers\")\n",
    "plt.show()"
   ]
  },
  {
   "cell_type": "code",
   "execution_count": null,
   "id": "2a9e6f8c",
   "metadata": {},
   "outputs": [],
   "source": []
  },
  {
   "cell_type": "code",
   "execution_count": null,
   "id": "11157222",
   "metadata": {},
   "outputs": [],
   "source": []
  },
  {
   "cell_type": "markdown",
   "id": "460ab73a",
   "metadata": {},
   "source": [
    "Dropping encounter id and paitent nbr as they are nominal data and they dont contribute to ML model"
   ]
  },
  {
   "cell_type": "code",
   "execution_count": 21,
   "id": "2337172f",
   "metadata": {},
   "outputs": [
    {
     "data": {
      "text/html": [
       "<div>\n",
       "<style scoped>\n",
       "    .dataframe tbody tr th:only-of-type {\n",
       "        vertical-align: middle;\n",
       "    }\n",
       "\n",
       "    .dataframe tbody tr th {\n",
       "        vertical-align: top;\n",
       "    }\n",
       "\n",
       "    .dataframe thead th {\n",
       "        text-align: right;\n",
       "    }\n",
       "</style>\n",
       "<table border=\"1\" class=\"dataframe\">\n",
       "  <thead>\n",
       "    <tr style=\"text-align: right;\">\n",
       "      <th></th>\n",
       "      <th>race</th>\n",
       "      <th>gender</th>\n",
       "      <th>age</th>\n",
       "      <th>admission_type_id</th>\n",
       "      <th>discharge_disposition_id</th>\n",
       "      <th>admission_source_id</th>\n",
       "      <th>time_in_hospital</th>\n",
       "      <th>medical_specialty</th>\n",
       "      <th>num_lab_procedures</th>\n",
       "      <th>num_procedures</th>\n",
       "      <th>...</th>\n",
       "      <th>glimepiride</th>\n",
       "      <th>glipizide</th>\n",
       "      <th>glyburide</th>\n",
       "      <th>pioglitazone</th>\n",
       "      <th>rosiglitazone</th>\n",
       "      <th>acarbose</th>\n",
       "      <th>insulin</th>\n",
       "      <th>change</th>\n",
       "      <th>diabetesMed</th>\n",
       "      <th>readmitted</th>\n",
       "    </tr>\n",
       "  </thead>\n",
       "  <tbody>\n",
       "    <tr>\n",
       "      <th>0</th>\n",
       "      <td>0</td>\n",
       "      <td>0</td>\n",
       "      <td>0</td>\n",
       "      <td>6</td>\n",
       "      <td>25</td>\n",
       "      <td>1</td>\n",
       "      <td>1</td>\n",
       "      <td>37</td>\n",
       "      <td>41</td>\n",
       "      <td>0</td>\n",
       "      <td>...</td>\n",
       "      <td>1</td>\n",
       "      <td>1</td>\n",
       "      <td>1</td>\n",
       "      <td>1</td>\n",
       "      <td>1</td>\n",
       "      <td>0</td>\n",
       "      <td>1</td>\n",
       "      <td>1</td>\n",
       "      <td>0</td>\n",
       "      <td>3</td>\n",
       "    </tr>\n",
       "    <tr>\n",
       "      <th>1</th>\n",
       "      <td>0</td>\n",
       "      <td>0</td>\n",
       "      <td>1</td>\n",
       "      <td>1</td>\n",
       "      <td>1</td>\n",
       "      <td>7</td>\n",
       "      <td>3</td>\n",
       "      <td>19</td>\n",
       "      <td>59</td>\n",
       "      <td>0</td>\n",
       "      <td>...</td>\n",
       "      <td>1</td>\n",
       "      <td>1</td>\n",
       "      <td>1</td>\n",
       "      <td>1</td>\n",
       "      <td>1</td>\n",
       "      <td>0</td>\n",
       "      <td>3</td>\n",
       "      <td>0</td>\n",
       "      <td>1</td>\n",
       "      <td>1</td>\n",
       "    </tr>\n",
       "    <tr>\n",
       "      <th>2</th>\n",
       "      <td>0</td>\n",
       "      <td>1</td>\n",
       "      <td>3</td>\n",
       "      <td>1</td>\n",
       "      <td>1</td>\n",
       "      <td>7</td>\n",
       "      <td>2</td>\n",
       "      <td>19</td>\n",
       "      <td>44</td>\n",
       "      <td>1</td>\n",
       "      <td>...</td>\n",
       "      <td>1</td>\n",
       "      <td>1</td>\n",
       "      <td>1</td>\n",
       "      <td>1</td>\n",
       "      <td>1</td>\n",
       "      <td>0</td>\n",
       "      <td>3</td>\n",
       "      <td>0</td>\n",
       "      <td>1</td>\n",
       "      <td>3</td>\n",
       "    </tr>\n",
       "    <tr>\n",
       "      <th>3</th>\n",
       "      <td>0</td>\n",
       "      <td>1</td>\n",
       "      <td>4</td>\n",
       "      <td>1</td>\n",
       "      <td>1</td>\n",
       "      <td>7</td>\n",
       "      <td>1</td>\n",
       "      <td>19</td>\n",
       "      <td>51</td>\n",
       "      <td>0</td>\n",
       "      <td>...</td>\n",
       "      <td>1</td>\n",
       "      <td>2</td>\n",
       "      <td>1</td>\n",
       "      <td>1</td>\n",
       "      <td>1</td>\n",
       "      <td>0</td>\n",
       "      <td>2</td>\n",
       "      <td>0</td>\n",
       "      <td>1</td>\n",
       "      <td>3</td>\n",
       "    </tr>\n",
       "    <tr>\n",
       "      <th>4</th>\n",
       "      <td>0</td>\n",
       "      <td>1</td>\n",
       "      <td>5</td>\n",
       "      <td>2</td>\n",
       "      <td>1</td>\n",
       "      <td>2</td>\n",
       "      <td>3</td>\n",
       "      <td>19</td>\n",
       "      <td>31</td>\n",
       "      <td>1</td>\n",
       "      <td>...</td>\n",
       "      <td>1</td>\n",
       "      <td>1</td>\n",
       "      <td>1</td>\n",
       "      <td>1</td>\n",
       "      <td>1</td>\n",
       "      <td>0</td>\n",
       "      <td>2</td>\n",
       "      <td>1</td>\n",
       "      <td>1</td>\n",
       "      <td>1</td>\n",
       "    </tr>\n",
       "  </tbody>\n",
       "</table>\n",
       "<p>5 rows × 32 columns</p>\n",
       "</div>"
      ],
      "text/plain": [
       "   race  gender  age  admission_type_id  discharge_disposition_id  \\\n",
       "0     0       0    0                  6                        25   \n",
       "1     0       0    1                  1                         1   \n",
       "2     0       1    3                  1                         1   \n",
       "3     0       1    4                  1                         1   \n",
       "4     0       1    5                  2                         1   \n",
       "\n",
       "   admission_source_id  time_in_hospital  medical_specialty  \\\n",
       "0                    1                 1                 37   \n",
       "1                    7                 3                 19   \n",
       "2                    7                 2                 19   \n",
       "3                    7                 1                 19   \n",
       "4                    2                 3                 19   \n",
       "\n",
       "   num_lab_procedures  num_procedures  ...  glimepiride  glipizide  glyburide  \\\n",
       "0                  41               0  ...            1          1          1   \n",
       "1                  59               0  ...            1          1          1   \n",
       "2                  44               1  ...            1          1          1   \n",
       "3                  51               0  ...            1          2          1   \n",
       "4                  31               1  ...            1          1          1   \n",
       "\n",
       "   pioglitazone  rosiglitazone  acarbose  insulin  change  diabetesMed  \\\n",
       "0             1              1         0        1       1            0   \n",
       "1             1              1         0        3       0            1   \n",
       "2             1              1         0        3       0            1   \n",
       "3             1              1         0        2       0            1   \n",
       "4             1              1         0        2       1            1   \n",
       "\n",
       "   readmitted  \n",
       "0           3  \n",
       "1           1  \n",
       "2           3  \n",
       "3           3  \n",
       "4           1  \n",
       "\n",
       "[5 rows x 32 columns]"
      ]
     },
     "execution_count": 21,
     "metadata": {},
     "output_type": "execute_result"
    }
   ],
   "source": [
    "df_n = df1.drop(['encounter_id','patient_nbr'],axis=1) #dropping the features\n",
    "\n",
    "df_n.head()"
   ]
  },
  {
   "cell_type": "code",
   "execution_count": null,
   "id": "4969f6fd",
   "metadata": {},
   "outputs": [],
   "source": []
  },
  {
   "cell_type": "markdown",
   "id": "6b624157",
   "metadata": {},
   "source": [
    "# Transformation of dataset values"
   ]
  },
  {
   "cell_type": "markdown",
   "id": "54c44a39",
   "metadata": {},
   "source": [
    "Since few feature values are in different scales,  standardscalar  is used to bring all values to to same scale"
   ]
  },
  {
   "cell_type": "code",
   "execution_count": 22,
   "id": "67ee5f44",
   "metadata": {},
   "outputs": [
    {
     "data": {
      "text/html": [
       "<div>\n",
       "<style scoped>\n",
       "    .dataframe tbody tr th:only-of-type {\n",
       "        vertical-align: middle;\n",
       "    }\n",
       "\n",
       "    .dataframe tbody tr th {\n",
       "        vertical-align: top;\n",
       "    }\n",
       "\n",
       "    .dataframe thead th {\n",
       "        text-align: right;\n",
       "    }\n",
       "</style>\n",
       "<table border=\"1\" class=\"dataframe\">\n",
       "  <thead>\n",
       "    <tr style=\"text-align: right;\">\n",
       "      <th></th>\n",
       "      <th>race</th>\n",
       "      <th>gender</th>\n",
       "      <th>age</th>\n",
       "      <th>admission_type_id</th>\n",
       "      <th>discharge_disposition_id</th>\n",
       "      <th>admission_source_id</th>\n",
       "      <th>time_in_hospital</th>\n",
       "      <th>medical_specialty</th>\n",
       "      <th>num_lab_procedures</th>\n",
       "      <th>num_procedures</th>\n",
       "      <th>...</th>\n",
       "      <th>repaglinide</th>\n",
       "      <th>glimepiride</th>\n",
       "      <th>glipizide</th>\n",
       "      <th>glyburide</th>\n",
       "      <th>pioglitazone</th>\n",
       "      <th>rosiglitazone</th>\n",
       "      <th>acarbose</th>\n",
       "      <th>insulin</th>\n",
       "      <th>change</th>\n",
       "      <th>diabetesMed</th>\n",
       "    </tr>\n",
       "  </thead>\n",
       "  <tbody>\n",
       "    <tr>\n",
       "      <th>0</th>\n",
       "      <td>-0.456536</td>\n",
       "      <td>-0.937201</td>\n",
       "      <td>-3.819948</td>\n",
       "      <td>2.590701</td>\n",
       "      <td>4.068307</td>\n",
       "      <td>-1.131634</td>\n",
       "      <td>-1.183747</td>\n",
       "      <td>1.239230</td>\n",
       "      <td>-0.124157</td>\n",
       "      <td>-0.840429</td>\n",
       "      <td>...</td>\n",
       "      <td>-0.105234</td>\n",
       "      <td>-0.21334</td>\n",
       "      <td>-0.337417</td>\n",
       "      <td>-0.3014</td>\n",
       "      <td>-0.268509</td>\n",
       "      <td>-0.252908</td>\n",
       "      <td>-0.051638</td>\n",
       "      <td>-0.499076</td>\n",
       "      <td>0.902353</td>\n",
       "      <td>-1.777228</td>\n",
       "    </tr>\n",
       "    <tr>\n",
       "      <th>1</th>\n",
       "      <td>-0.456536</td>\n",
       "      <td>-0.937201</td>\n",
       "      <td>-3.191306</td>\n",
       "      <td>-0.720113</td>\n",
       "      <td>-0.491366</td>\n",
       "      <td>0.309533</td>\n",
       "      <td>-0.423979</td>\n",
       "      <td>-0.119484</td>\n",
       "      <td>0.780623</td>\n",
       "      <td>-0.840429</td>\n",
       "      <td>...</td>\n",
       "      <td>-0.105234</td>\n",
       "      <td>-0.21334</td>\n",
       "      <td>-0.337417</td>\n",
       "      <td>-0.3014</td>\n",
       "      <td>-0.268509</td>\n",
       "      <td>-0.252908</td>\n",
       "      <td>-0.051638</td>\n",
       "      <td>1.986155</td>\n",
       "      <td>-1.108213</td>\n",
       "      <td>0.562674</td>\n",
       "    </tr>\n",
       "    <tr>\n",
       "      <th>2</th>\n",
       "      <td>-0.456536</td>\n",
       "      <td>1.067007</td>\n",
       "      <td>-1.934021</td>\n",
       "      <td>-0.720113</td>\n",
       "      <td>-0.491366</td>\n",
       "      <td>0.309533</td>\n",
       "      <td>-0.803863</td>\n",
       "      <td>-0.119484</td>\n",
       "      <td>0.026640</td>\n",
       "      <td>-0.115708</td>\n",
       "      <td>...</td>\n",
       "      <td>-0.105234</td>\n",
       "      <td>-0.21334</td>\n",
       "      <td>-0.337417</td>\n",
       "      <td>-0.3014</td>\n",
       "      <td>-0.268509</td>\n",
       "      <td>-0.252908</td>\n",
       "      <td>-0.051638</td>\n",
       "      <td>1.986155</td>\n",
       "      <td>-1.108213</td>\n",
       "      <td>0.562674</td>\n",
       "    </tr>\n",
       "    <tr>\n",
       "      <th>3</th>\n",
       "      <td>-0.456536</td>\n",
       "      <td>1.067007</td>\n",
       "      <td>-1.305379</td>\n",
       "      <td>-0.720113</td>\n",
       "      <td>-0.491366</td>\n",
       "      <td>0.309533</td>\n",
       "      <td>-1.183747</td>\n",
       "      <td>-0.119484</td>\n",
       "      <td>0.378498</td>\n",
       "      <td>-0.840429</td>\n",
       "      <td>...</td>\n",
       "      <td>-0.105234</td>\n",
       "      <td>-0.21334</td>\n",
       "      <td>2.372095</td>\n",
       "      <td>-0.3014</td>\n",
       "      <td>-0.268509</td>\n",
       "      <td>-0.252908</td>\n",
       "      <td>-0.051638</td>\n",
       "      <td>0.743540</td>\n",
       "      <td>-1.108213</td>\n",
       "      <td>0.562674</td>\n",
       "    </tr>\n",
       "    <tr>\n",
       "      <th>4</th>\n",
       "      <td>-0.456536</td>\n",
       "      <td>1.067007</td>\n",
       "      <td>-0.676737</td>\n",
       "      <td>-0.057950</td>\n",
       "      <td>-0.491366</td>\n",
       "      <td>-0.891440</td>\n",
       "      <td>-0.423979</td>\n",
       "      <td>-0.119484</td>\n",
       "      <td>-0.626812</td>\n",
       "      <td>-0.115708</td>\n",
       "      <td>...</td>\n",
       "      <td>-0.105234</td>\n",
       "      <td>-0.21334</td>\n",
       "      <td>-0.337417</td>\n",
       "      <td>-0.3014</td>\n",
       "      <td>-0.268509</td>\n",
       "      <td>-0.252908</td>\n",
       "      <td>-0.051638</td>\n",
       "      <td>0.743540</td>\n",
       "      <td>0.902353</td>\n",
       "      <td>0.562674</td>\n",
       "    </tr>\n",
       "  </tbody>\n",
       "</table>\n",
       "<p>5 rows × 31 columns</p>\n",
       "</div>"
      ],
      "text/plain": [
       "       race    gender       age  admission_type_id  discharge_disposition_id  \\\n",
       "0 -0.456536 -0.937201 -3.819948           2.590701                  4.068307   \n",
       "1 -0.456536 -0.937201 -3.191306          -0.720113                 -0.491366   \n",
       "2 -0.456536  1.067007 -1.934021          -0.720113                 -0.491366   \n",
       "3 -0.456536  1.067007 -1.305379          -0.720113                 -0.491366   \n",
       "4 -0.456536  1.067007 -0.676737          -0.057950                 -0.491366   \n",
       "\n",
       "   admission_source_id  time_in_hospital  medical_specialty  \\\n",
       "0            -1.131634         -1.183747           1.239230   \n",
       "1             0.309533         -0.423979          -0.119484   \n",
       "2             0.309533         -0.803863          -0.119484   \n",
       "3             0.309533         -1.183747          -0.119484   \n",
       "4            -0.891440         -0.423979          -0.119484   \n",
       "\n",
       "   num_lab_procedures  num_procedures  ...  repaglinide  glimepiride  \\\n",
       "0           -0.124157       -0.840429  ...    -0.105234     -0.21334   \n",
       "1            0.780623       -0.840429  ...    -0.105234     -0.21334   \n",
       "2            0.026640       -0.115708  ...    -0.105234     -0.21334   \n",
       "3            0.378498       -0.840429  ...    -0.105234     -0.21334   \n",
       "4           -0.626812       -0.115708  ...    -0.105234     -0.21334   \n",
       "\n",
       "   glipizide  glyburide  pioglitazone  rosiglitazone  acarbose   insulin  \\\n",
       "0  -0.337417    -0.3014     -0.268509      -0.252908 -0.051638 -0.499076   \n",
       "1  -0.337417    -0.3014     -0.268509      -0.252908 -0.051638  1.986155   \n",
       "2  -0.337417    -0.3014     -0.268509      -0.252908 -0.051638  1.986155   \n",
       "3   2.372095    -0.3014     -0.268509      -0.252908 -0.051638  0.743540   \n",
       "4  -0.337417    -0.3014     -0.268509      -0.252908 -0.051638  0.743540   \n",
       "\n",
       "     change  diabetesMed  \n",
       "0  0.902353    -1.777228  \n",
       "1 -1.108213     0.562674  \n",
       "2 -1.108213     0.562674  \n",
       "3 -1.108213     0.562674  \n",
       "4  0.902353     0.562674  \n",
       "\n",
       "[5 rows x 31 columns]"
      ]
     },
     "execution_count": 22,
     "metadata": {},
     "output_type": "execute_result"
    }
   ],
   "source": [
    "from sklearn.preprocessing import StandardScaler                     #importing standard scalar library\n",
    "scaler = StandardScaler()                                            #assigning standar sclar \n",
    "scaler.fit(df_n.drop(\"readmitted\",axis=1))                           #fitting scalar to the dataset and dropping readmittance\n",
    "scaled_features = scaler.transform(df_n.drop(\"readmitted\",axis=1))   #transforming the dataset to standardscalar\n",
    "\n",
    "df_scaled = pd.DataFrame(scaled_features,columns=df_n.columns[:-1])  #assigning the zscore data to dataframe and prinitng it\n",
    "df_scaled.head()\n"
   ]
  },
  {
   "cell_type": "code",
   "execution_count": null,
   "id": "82fc57fb",
   "metadata": {},
   "outputs": [],
   "source": []
  },
  {
   "cell_type": "code",
   "execution_count": null,
   "id": "980834a0",
   "metadata": {},
   "outputs": [],
   "source": []
  },
  {
   "cell_type": "code",
   "execution_count": 23,
   "id": "5ff04983",
   "metadata": {},
   "outputs": [
    {
     "data": {
      "text/html": [
       "<div>\n",
       "<style scoped>\n",
       "    .dataframe tbody tr th:only-of-type {\n",
       "        vertical-align: middle;\n",
       "    }\n",
       "\n",
       "    .dataframe tbody tr th {\n",
       "        vertical-align: top;\n",
       "    }\n",
       "\n",
       "    .dataframe thead th {\n",
       "        text-align: right;\n",
       "    }\n",
       "</style>\n",
       "<table border=\"1\" class=\"dataframe\">\n",
       "  <thead>\n",
       "    <tr style=\"text-align: right;\">\n",
       "      <th></th>\n",
       "      <th>readmitted</th>\n",
       "    </tr>\n",
       "  </thead>\n",
       "  <tbody>\n",
       "    <tr>\n",
       "      <th>0</th>\n",
       "      <td>3</td>\n",
       "    </tr>\n",
       "    <tr>\n",
       "      <th>1</th>\n",
       "      <td>1</td>\n",
       "    </tr>\n",
       "    <tr>\n",
       "      <th>2</th>\n",
       "      <td>3</td>\n",
       "    </tr>\n",
       "    <tr>\n",
       "      <th>3</th>\n",
       "      <td>3</td>\n",
       "    </tr>\n",
       "    <tr>\n",
       "      <th>4</th>\n",
       "      <td>1</td>\n",
       "    </tr>\n",
       "  </tbody>\n",
       "</table>\n",
       "</div>"
      ],
      "text/plain": [
       "   readmitted\n",
       "0           3\n",
       "1           1\n",
       "2           3\n",
       "3           3\n",
       "4           1"
      ]
     },
     "execution_count": 23,
     "metadata": {},
     "output_type": "execute_result"
    }
   ],
   "source": [
    "df_y = df_n[['readmitted']] #taking class value sepratley\n",
    "\n",
    "df_y.head()"
   ]
  },
  {
   "cell_type": "code",
   "execution_count": null,
   "id": "58bff213",
   "metadata": {},
   "outputs": [],
   "source": []
  },
  {
   "cell_type": "markdown",
   "id": "9c03f85a",
   "metadata": {},
   "source": [
    "# Implementing kNN Classifier"
   ]
  },
  {
   "cell_type": "markdown",
   "id": "5e7a3968",
   "metadata": {},
   "source": [
    "The data set is split into test and training set"
   ]
  },
  {
   "cell_type": "code",
   "execution_count": 24,
   "id": "431efb7a",
   "metadata": {},
   "outputs": [],
   "source": [
    "from sklearn.model_selection import train_test_split          #importing traintest\n",
    "X_train, X_test, y_train, y_test = train_test_split(scaled_features,df_y['readmitted'], #splitting dataset into 7:3 ratio\n",
    "                                                    test_size=0.30)"
   ]
  },
  {
   "cell_type": "code",
   "execution_count": 25,
   "id": "e12d3abe",
   "metadata": {},
   "outputs": [],
   "source": [
    "from sklearn.neighbors import KNeighborsClassifier #importing kNN classifier"
   ]
  },
  {
   "cell_type": "code",
   "execution_count": 26,
   "id": "f6f4c8e5",
   "metadata": {},
   "outputs": [],
   "source": [
    "from sklearn.metrics import classification_report,confusion_matrix #importing confusion matrix\n",
    "from sklearn.model_selection import cross_val_score                #importing cross validation value"
   ]
  },
  {
   "cell_type": "markdown",
   "id": "ac535285",
   "metadata": {},
   "source": [
    "Since kNN requires k value to execeute, kNN is executed for k values from 1 to 40 and plotted against respective accuracy"
   ]
  },
  {
   "cell_type": "code",
   "execution_count": 27,
   "id": "e7930774",
   "metadata": {},
   "outputs": [],
   "source": [
    "accuracy_rate = []\n",
    "\n",
    "for i in range(1,40):                                               #creating forloop for calculating of knn\n",
    "    \n",
    "    knn = KNeighborsClassifier(n_neighbors=i)                       #assgning knnclassifier to knn\n",
    "    score=cross_val_score(knn,df_scaled,df_y['readmitted'],cv=10)   #fiding cross validation score \n",
    "    accuracy_rate.append(score.mean())                              #finding accuracy"
   ]
  },
  {
   "cell_type": "code",
   "execution_count": 28,
   "id": "5f57ee8c",
   "metadata": {},
   "outputs": [
    {
     "data": {
      "text/plain": [
       "Text(0, 0.5, 'Accuracy Rate')"
      ]
     },
     "execution_count": 28,
     "metadata": {},
     "output_type": "execute_result"
    },
    {
     "data": {
      "image/png": "[encoded data removed]",
      "text/plain": [
       "<Figure size 720x432 with 1 Axes>"
      ]
     },
     "metadata": {
      "needs_background": "light"
     },
     "output_type": "display_data"
    }
   ],
   "source": [
    "import matplotlib.pyplot as plt                                     #importing matlib \n",
    "\n",
    "plt.figure(figsize=(10,6))                                          #setting graph size\n",
    "\n",
    "plt.plot(range(1,40),accuracy_rate,color='blue', linestyle='dashed', marker='o',  \n",
    "         markerfacecolor='red', markersize=10)                      #setting what values to be plotted \n",
    "plt.title('Accuracy Rate vs. K Value')                              #giving title to the graph\n",
    "plt.xlabel('K')                                                     #naming x axis and y axis\n",
    "plt.ylabel('Accuracy Rate')"
   ]
  },
  {
   "cell_type": "markdown",
   "id": "692d349f",
   "metadata": {},
   "source": [
    "From this graph we can see that accuracy is highest at around 30"
   ]
  },
  {
   "cell_type": "code",
   "execution_count": null,
   "id": "2fb9807f",
   "metadata": {},
   "outputs": [],
   "source": []
  },
  {
   "cell_type": "code",
   "execution_count": null,
   "id": "0adceb07",
   "metadata": {},
   "outputs": [],
   "source": []
  },
  {
   "cell_type": "markdown",
   "id": "425728b1",
   "metadata": {},
   "source": [
    "# Calculating accuracy and Confusion matrix"
   ]
  },
  {
   "cell_type": "markdown",
   "id": "a8589953",
   "metadata": {},
   "source": [
    "Accuracy for k= 10,20,30"
   ]
  },
  {
   "cell_type": "code",
   "execution_count": 29,
   "id": "b73dfef9",
   "metadata": {},
   "outputs": [
    {
     "name": "stdout",
     "output_type": "stream",
     "text": [
      "[[  27  461 1229]\n",
      " [  72 1742 4327]\n",
      " [  85 2263 9522]]\n"
     ]
    }
   ],
   "source": [
    "#fitting kNN  model on the data with 10 as neighbour\n",
    "knn = KNeighborsClassifier(n_neighbors=10)\n",
    "knn.fit(X_train,y_train)\n",
    "\n",
    "pred = knn.predict(X_test)                 #predicting values on test set\n",
    "\n",
    "print(confusion_matrix(y_test,pred))        "
   ]
  },
  {
   "cell_type": "code",
   "execution_count": 30,
   "id": "29a5a010",
   "metadata": {},
   "outputs": [
    {
     "data": {
      "text/plain": [
       "57.23337388483374"
      ]
     },
     "execution_count": 30,
     "metadata": {},
     "output_type": "execute_result"
    }
   ],
   "source": [
    "#checking the accuracy of the test \n",
    "from sklearn.metrics import accuracy_score\n",
    "\n",
    "accuracy_score(y_test,pred)*100"
   ]
  },
  {
   "cell_type": "code",
   "execution_count": null,
   "id": "4d8a9933",
   "metadata": {},
   "outputs": [],
   "source": []
  },
  {
   "cell_type": "code",
   "execution_count": 31,
   "id": "e2f86d06",
   "metadata": {},
   "outputs": [
    {
     "name": "stdout",
     "output_type": "stream",
     "text": [
      "[[    9   356  1352]\n",
      " [   14  1242  4885]\n",
      " [   13  1405 10452]]\n"
     ]
    }
   ],
   "source": [
    "#fitting kNN  model on the data with 20 as neighbour\n",
    "knn = KNeighborsClassifier(n_neighbors=20)\n",
    "knn.fit(X_train,y_train)\n",
    "\n",
    "pred = knn.predict(X_test)\n",
    "\n",
    "print(confusion_matrix(y_test,pred))"
   ]
  },
  {
   "cell_type": "code",
   "execution_count": 32,
   "id": "53df0e18",
   "metadata": {},
   "outputs": [
    {
     "data": {
      "text/plain": [
       "59.321776155717764"
      ]
     },
     "execution_count": 32,
     "metadata": {},
     "output_type": "execute_result"
    }
   ],
   "source": [
    "accuracy_score(y_test,pred)*100"
   ]
  },
  {
   "cell_type": "code",
   "execution_count": null,
   "id": "e642af6b",
   "metadata": {},
   "outputs": [],
   "source": []
  },
  {
   "cell_type": "code",
   "execution_count": 33,
   "id": "f8575ed9",
   "metadata": {},
   "outputs": [
    {
     "name": "stdout",
     "output_type": "stream",
     "text": [
      "[[    3   284  1430]\n",
      " [    4   987  5150]\n",
      " [    2  1028 10840]]\n"
     ]
    }
   ],
   "source": [
    "#fitting kNN  model on the data with 30 as neighbour\n",
    "knn = KNeighborsClassifier(n_neighbors=30)\n",
    "knn.fit(X_train,y_train)\n",
    "\n",
    "pred = knn.predict(X_test)\n",
    "\n",
    "print(confusion_matrix(y_test,pred))"
   ]
  },
  {
   "cell_type": "code",
   "execution_count": 34,
   "id": "06a042f6",
   "metadata": {},
   "outputs": [
    {
     "data": {
      "text/plain": [
       "59.96553122465531"
      ]
     },
     "execution_count": 34,
     "metadata": {},
     "output_type": "execute_result"
    }
   ],
   "source": [
    "accuracy_score(y_test,pred)*100"
   ]
  },
  {
   "cell_type": "code",
   "execution_count": 35,
   "id": "8424d0c8",
   "metadata": {},
   "outputs": [
    {
     "name": "stdout",
     "output_type": "stream",
     "text": [
      "              precision    recall  f1-score   support\n",
      "\n",
      "           0      0.333     0.002     0.003      1717\n",
      "           1      0.429     0.161     0.234      6141\n",
      "           3      0.622     0.913     0.740     11870\n",
      "\n",
      "    accuracy                          0.600     19728\n",
      "   macro avg      0.462     0.359     0.326     19728\n",
      "weighted avg      0.537     0.600     0.518     19728\n",
      "\n"
     ]
    }
   ],
   "source": [
    "#calculating precision and recall and printing for k=30\n",
    "from sklearn import metrics\n",
    "\n",
    "print(metrics.classification_report(y_test,pred, digits=3))"
   ]
  },
  {
   "cell_type": "code",
   "execution_count": null,
   "id": "d3c387bf",
   "metadata": {},
   "outputs": [],
   "source": []
  },
  {
   "cell_type": "code",
   "execution_count": null,
   "id": "00ad3c3a",
   "metadata": {},
   "outputs": [],
   "source": []
  },
  {
   "cell_type": "code",
   "execution_count": null,
   "id": "ded0d8a1",
   "metadata": {},
   "outputs": [],
   "source": []
  }
 ],
 "metadata": {
  "kernelspec": {
   "display_name": "Python 3 (ipykernel)",
   "language": "python",
   "name": "python3"
  },
  "language_info": {
   "codemirror_mode": {
    "name": "ipython",
    "version": 3
   },
   "file_extension": ".py",
   "mimetype": "text/x-python",
   "name": "python",
   "nbconvert_exporter": "python",
   "pygments_lexer": "ipython3",
   "version": "3.8.8"
  }
 },
 "nbformat": 4,
 "nbformat_minor": 5
}
